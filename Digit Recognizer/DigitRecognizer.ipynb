{
 "cells": [
  {
   "cell_type": "markdown",
   "metadata": {},
   "source": [
    "# Digit Recognizer using TensorFlow"
   ]
  },
  {
   "cell_type": "code",
   "execution_count": 1,
   "metadata": {},
   "outputs": [],
   "source": [
    "# Imports\n",
    "import tensorflow as tf\n",
    "import pandas as pd\n",
    "import numpy as np\n",
    "import matplotlib.pyplot as plot\n",
    "import seaborn as sn\n",
    "from sklearn.model_selection import train_test_split\n",
    "from sklearn.metrics import confusion_matrix, accuracy_score\n",
    "folder = \"D:\\ProgrammingBigFiles\\Kaggle\\Digit Recognizer\\\\\""
   ]
  },
  {
   "cell_type": "code",
   "execution_count": 2,
   "metadata": {},
   "outputs": [],
   "source": [
    "# Loading database\n",
    "traindb = pd.read_csv(folder + \"train.csv\")\n",
    "finaldb = pd.read_csv(folder + \"test.csv\")\n",
    "x_train, y_train = traindb.iloc[:, 1:], traindb.iloc[:, 0]\n",
    "x_final = finaldb"
   ]
  },
  {
   "cell_type": "code",
   "execution_count": 4,
   "metadata": {
    "scrolled": true
   },
   "outputs": [],
   "source": [
    "# Preprocessing\n",
    "x_train, x_final = x_train / 255.0, x_final / 255.0\n",
    "x_train = x_train.values.reshape(-1, 28, 28, 1)\n",
    "x_final = x_final.values.reshape(-1, 28, 28, 1)\n",
    "\n",
    "# Split classified database into train and test\n",
    "x_train, x_test, y_train, y_test = train_test_split(x_train, y_train, test_size = 0.1, random_state = 2)"
   ]
  },
  {
   "cell_type": "code",
   "execution_count": 5,
   "metadata": {
    "scrolled": true
   },
   "outputs": [
    {
     "name": "stderr",
     "output_type": "stream",
     "text": [
      "WARNING: Logging before flag parsing goes to stderr.\n",
      "W0803 23:26:25.582632 13440 deprecation.py:506] From C:\\Users\\Nelson Gomes Neto\\AppData\\Roaming\\Python\\Python37\\site-packages\\tensorflow\\python\\ops\\init_ops.py:1251: calling VarianceScaling.__init__ (from tensorflow.python.ops.init_ops) with dtype is deprecated and will be removed in a future version.\n",
      "Instructions for updating:\n",
      "Call initializer instance with the dtype argument instead of passing it to the constructor\n"
     ]
    },
    {
     "name": "stdout",
     "output_type": "stream",
     "text": [
      "Epoch 1/5\n",
      "37800/37800 [==============================] - 20s 521us/sample - loss: 0.1781 - acc: 0.9442\n",
      "Epoch 2/5\n",
      "37800/37800 [==============================] - 65s 2ms/sample - loss: 0.0659 - acc: 0.9804\n",
      "Epoch 3/5\n",
      "37800/37800 [==============================] - 384s 10ms/sample - loss: 0.0590 - acc: 0.9840\n",
      "Epoch 4/5\n",
      "37800/37800 [==============================] - 383s 10ms/sample - loss: 0.0584 - acc: 0.9839\n",
      "Epoch 5/5\n",
      "37800/37800 [==============================] - 384s 10ms/sample - loss: 0.0528 - acc: 0.9854\n"
     ]
    },
    {
     "data": {
      "text/plain": [
       "<tensorflow.python.keras.callbacks.History at 0x27e2c33c5c8>"
      ]
     },
     "execution_count": 5,
     "metadata": {},
     "output_type": "execute_result"
    }
   ],
   "source": [
    "# Model definition\n",
    "model = tf.keras.models.Sequential([\n",
    "    tf.keras.layers.Conv2D(filters = 32, kernel_size = (5, 5), padding = \"Same\", activation = \"relu\", input_shape = (28, 28, 1)),\n",
    "    tf.keras.layers.Conv2D(filters = 32, kernel_size = (5, 5), padding = \"Same\", activation = \"relu\", input_shape = (28, 28, 1)),\n",
    "    tf.keras.layers.MaxPool2D(pool_size = (2, 2)),\n",
    "    tf.keras.layers.Dropout(0.25),\n",
    "    \n",
    "    tf.keras.layers.Conv2D(filters = 32, kernel_size = (5, 5), padding = \"Same\", activation = \"relu\", input_shape = (28, 28, 1)),\n",
    "    tf.keras.layers.Conv2D(filters = 32, kernel_size = (5, 5), padding = \"Same\", activation = \"relu\", input_shape = (28, 28, 1)),\n",
    "    tf.keras.layers.MaxPool2D(pool_size = (2, 2)),\n",
    "    tf.keras.layers.Dropout(0.25),\n",
    "    \n",
    "    tf.keras.layers.Flatten(),\n",
    "    tf.keras.layers.Dense(512, activation = \"relu\"),\n",
    "    tf.keras.layers.Dropout(0.5),\n",
    "    tf.keras.layers.Dense(10, activation = \"softmax\")\n",
    "])\n",
    "optimizer = tf.keras.optimizers.RMSprop(lr=0.001, rho=0.9, epsilon=1e-08, decay=0.0)\n",
    "model.compile(optimizer = optimizer, loss = \"sparse_categorical_crossentropy\", metrics=[\"accuracy\"])\n",
    "model.fit(x_train, y_train, epochs=5)"
   ]
  },
  {
   "cell_type": "code",
   "execution_count": null,
   "metadata": {
    "scrolled": true
   },
   "outputs": [],
   "source": [
    "# # Model definition\n",
    "# model = tf.keras.models.Sequential([\n",
    "#     tf.keras.layers.Flatten(input_shape=(28, 28, 1)),\n",
    "#     tf.keras.layers.Dense(512, activation=tf.nn.relu),\n",
    "#     tf.keras.layers.Dense(64, activation=tf.nn.relu),\n",
    "#     tf.keras.layers.Dropout(0.2),\n",
    "#     tf.keras.layers.Dense(10, activation=tf.nn.softmax)\n",
    "# ])\n",
    "# model.compile(optimizer='adam', loss='sparse_categorical_crossentropy', metrics=['accuracy'])\n",
    "# model.fit(x_train, y_train, epochs=5)\n",
    "# # model.evaluate(x_test)"
   ]
  },
  {
   "cell_type": "code",
   "execution_count": 8,
   "metadata": {},
   "outputs": [
    {
     "name": "stdout",
     "output_type": "stream",
     "text": [
      "Epoch 1/5\n",
      "439/440 [============================>.] - ETA: 0s - loss: 0.1264 - acc: 0.9629"
     ]
    },
    {
     "name": "stderr",
     "output_type": "stream",
     "text": [
      "C:\\Users\\Nelson Gomes Neto\\AppData\\Local\\Programs\\Python\\Python37\\lib\\site-packages\\pandas\\core\\series.py:942: FutureWarning: \n",
      "Passing list-likes to .loc or [] with any missing label will raise\n",
      "KeyError in the future, you can use .reindex() as an alternative.\n",
      "\n",
      "See the documentation here:\n",
      "https://pandas.pydata.org/pandas-docs/stable/indexing.html#deprecate-loc-reindex-listlike\n",
      "  return self.loc[key]\n"
     ]
    },
    {
     "name": "stdout",
     "output_type": "stream",
     "text": [
      "440/440 [==============================] - 283s 643ms/step - loss: 0.1265 - acc: 0.9629 - val_loss: nan - val_acc: 0.0119\n",
      "Epoch 2/5\n",
      "440/440 [==============================] - 271s 617ms/step - loss: 0.0863 - acc: 0.9758 - val_loss: nan - val_acc: 0.0119\n",
      "Epoch 3/5\n",
      "440/440 [==============================] - 273s 620ms/step - loss: 0.0797 - acc: 0.9778 - val_loss: nan - val_acc: 0.0121\n",
      "Epoch 4/5\n",
      "440/440 [==============================] - 271s 616ms/step - loss: 0.0732 - acc: 0.9796 - val_loss: nan - val_acc: 0.0117\n",
      "Epoch 5/5\n",
      "440/440 [==============================] - 271s 617ms/step - loss: 0.0704 - acc: 0.9812 - val_loss: nan - val_acc: 0.0117\n"
     ]
    }
   ],
   "source": [
    "# Data augmentation\n",
    "datagen = tf.keras.preprocessing.image.ImageDataGenerator(\n",
    "    featurewise_center=False,\n",
    "    samplewise_center=False,\n",
    "    featurewise_std_normalization=False,\n",
    "    samplewise_std_normalization=False,\n",
    "    zca_whitening=False,\n",
    "    rotation_range=10,\n",
    "    zoom_range=0.1,\n",
    "    width_shift_range=0.1,\n",
    "    height_shift_range=0.1,\n",
    "    horizontal_flip=False,\n",
    "    vertical_flip=False\n",
    ")\n",
    "datagen.fit(x_train)\n",
    "\n",
    "history = model.fit_generator(datagen.flow(x_train, y_train, batch_size = 86), epochs = 5, validation_data = (x_test, y_test))"
   ]
  },
  {
   "cell_type": "code",
   "execution_count": 9,
   "metadata": {},
   "outputs": [
    {
     "name": "stdout",
     "output_type": "stream",
     "text": [
      "Accuracy: 0.9930952380952381\n"
     ]
    },
    {
     "data": {
      "image/png": "[encoded data removed]",
      "text/plain": [
       "<Figure size 432x288 with 2 Axes>"
      ]
     },
     "metadata": {
      "needs_background": "light"
     },
     "output_type": "display_data"
    }
   ],
   "source": [
    "# Test model\n",
    "y_pred = model.predict(x_test)\n",
    "y_pred = np.argmax(y_pred, axis = 1)\n",
    "cf_mtx = confusion_matrix(y_pred, y_test)\n",
    "sn.heatmap(cf_mtx, annot=True, fmt='d')\n",
    "print(\"Accuracy:\", accuracy_score(y_pred, y_test))"
   ]
  },
  {
   "cell_type": "code",
   "execution_count": 10,
   "metadata": {},
   "outputs": [],
   "source": [
    "# Prepare submission\n",
    "y_final = model.predict(x_final)\n",
    "y_final = np.argmax(y_final, axis = 1)\n",
    "image_id = list(range(1, len(y_final) + 1))\n",
    "df = {\"ImageId\": image_id, \"Label\": y_final}\n",
    "df = pd.DataFrame(df, columns=df.keys())\n",
    "df.to_csv(\"submission.csv\", index=False)"
   ]
  }
 ],
 "metadata": {
  "kernelspec": {
   "display_name": "'Python Interactive'",
   "language": "python",
   "name": "5241e48e-9232-4c28-887c-ab19aa0f6282"
  },
  "language_info": {
   "codemirror_mode": {
    "name": "ipython",
    "version": 3
   },
   "file_extension": ".py",
   "mimetype": "text/x-python",
   "name": "python",
   "nbconvert_exporter": "python",
   "pygments_lexer": "ipython3",
   "version": "3.7.4"
  }
 },
 "nbformat": 4,
 "nbformat_minor": 2
}
