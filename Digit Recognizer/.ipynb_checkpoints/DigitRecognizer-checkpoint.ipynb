{
 "cells": [
  {
   "cell_type": "markdown",
   "metadata": {},
   "source": [
    "# Digit Recognizer using TensorFlow"
   ]
  },
  {
   "cell_type": "code",
   "execution_count": 91,
   "metadata": {},
   "outputs": [],
   "source": [
    "# Imports\n",
    "import tensorflow as tf\n",
    "import pandas as pd\n",
    "import numpy as np\n",
    "import matplotlib.pyplot as plot\n",
    "import seaborn as sn\n",
    "from sklearn.model_selection import train_test_split\n",
    "from sklearn.metrics import confusion_matrix, accuracy_score\n",
    "folder = \"D:\\ProgrammingBigFiles\\Kaggle\\Digit Recognizer\\\\\""
   ]
  },
  {
   "cell_type": "code",
   "execution_count": 31,
   "metadata": {},
   "outputs": [],
   "source": [
    "# Loading database\n",
    "traindb = pd.read_csv(folder + \"train.csv\")\n",
    "finaldb = pd.read_csv(folder + \"test.csv\")\n",
    "x_train, y_train = traindb.iloc[:, 1:], traindb.iloc[:, 0]\n",
    "x_test = testdb"
   ]
  },
  {
   "cell_type": "code",
   "execution_count": 32,
   "metadata": {
    "scrolled": true
   },
   "outputs": [],
   "source": [
    "# Preprocessing\n",
    "x_train, x_final = x_train / 255.0, x_test / 255.0\n",
    "x_train = x_train.values.reshape(-1, 28, 28, 1)\n",
    "x_final = x_final.values.reshape(-1, 28, 28, 1)\n",
    "\n",
    "# Split classified database into train and test\n",
    "x_train, x_test, y_train, y_test = train_test_split(x_train, y_train, test_size = 0.1, random_state = 2)"
   ]
  },
  {
   "cell_type": "code",
   "execution_count": 113,
   "metadata": {
    "scrolled": true
   },
   "outputs": [
    {
     "name": "stdout",
     "output_type": "stream",
     "text": [
      "Epoch 1/5\n",
      "37800/37800 [==============================] - 4s 95us/sample - loss: 0.2732 - acc: 0.9162\n",
      "Epoch 2/5\n",
      "37800/37800 [==============================] - 3s 91us/sample - loss: 0.1128 - acc: 0.9651\n",
      "Epoch 3/5\n",
      "37800/37800 [==============================] - 3s 91us/sample - loss: 0.0774 - acc: 0.9760\n",
      "Epoch 4/5\n",
      "37800/37800 [==============================] - 3s 91us/sample - loss: 0.0582 - acc: 0.9814\n",
      "Epoch 5/5\n",
      "37800/37800 [==============================] - 3s 91us/sample - loss: 0.0436 - acc: 0.9864\n"
     ]
    },
    {
     "data": {
      "text/plain": [
       "<tensorflow.python.keras.callbacks.History at 0x1a02bfbe3c8>"
      ]
     },
     "execution_count": 113,
     "metadata": {},
     "output_type": "execute_result"
    }
   ],
   "source": [
    "# Model definition\n",
    "model = tf.keras.models.Sequential([\n",
    "    tf.keras.layers.Flatten(input_shape=(28, 28, 1)),\n",
    "    tf.keras.layers.Dense(512, activation=tf.nn.relu),\n",
    "    tf.keras.layers.Dense(64, activation=tf.nn.relu),\n",
    "    tf.keras.layers.Dropout(0.2),\n",
    "    tf.keras.layers.Dense(10, activation=tf.nn.softmax)\n",
    "])\n",
    "model.compile(optimizer='adam', loss='sparse_categorical_crossentropy', metrics=['accuracy'])\n",
    "model.fit(x_train, y_train, epochs=5)\n",
    "# model.evaluate(x_test)"
   ]
  },
  {
   "cell_type": "code",
   "execution_count": 114,
   "metadata": {},
   "outputs": [
    {
     "name": "stdout",
     "output_type": "stream",
     "text": [
      "Accuracy: 0.9752380952380952\n"
     ]
    },
    {
     "data": {
      "image/png": "[encoded data removed]",
      "text/plain": [
       "<Figure size 432x288 with 2 Axes>"
      ]
     },
     "metadata": {},
     "output_type": "display_data"
    }
   ],
   "source": [
    "y_pred = model.predict(x_test)\n",
    "y_pred = np.argmax(y_pred, axis = 1)\n",
    "cf_mtx = confusion_matrix(y_pred, y_test)\n",
    "sn.heatmap(cf_mtx, annot=True, fmt='d')\n",
    "print(\"Accuracy:\", accuracy_score(y_pred, y_test))"
   ]
  },
  {
   "cell_type": "code",
   "execution_count": 115,
   "metadata": {},
   "outputs": [],
   "source": [
    "y_final = model.predict(x_final)\n",
    "y_final = np.argmax(y_final, axis = 1)\n",
    "image_id = list(range(1, len(y_final) + 1))\n",
    "df = {\"ImageId\": image_id, \"Label\": y_final}\n",
    "df = pd.DataFrame(df, columns=df.keys())\n",
    "df.to_csv(\"submission.csv\", index=False)"
   ]
  }
 ],
 "metadata": {
  "kernelspec": {
   "display_name": "'Python Interactive'",
   "language": "python",
   "name": "5241e48e-9232-4c28-887c-ab19aa0f6282"
  },
  "language_info": {
   "codemirror_mode": {
    "name": "ipython",
    "version": 3
   },
   "file_extension": ".py",
   "mimetype": "text/x-python",
   "name": "python",
   "nbconvert_exporter": "python",
   "pygments_lexer": "ipython3",
   "version": "3.7.4"
  }
 },
 "nbformat": 4,
 "nbformat_minor": 2
}
