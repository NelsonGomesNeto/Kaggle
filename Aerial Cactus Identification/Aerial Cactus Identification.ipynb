{
 "cells": [
  {
   "cell_type": "code",
   "execution_count": 1,
   "metadata": {},
   "outputs": [],
   "source": [
    "# Imports\n",
    "\n",
    "import os\n",
    "import tensorflow as tf\n",
    "import pandas as pd\n",
    "import numpy as np\n",
    "import matplotlib.pyplot as plot\n",
    "import matplotlib.image as mpimage\n",
    "import seaborn as sn\n",
    "from sklearn.model_selection import train_test_split\n",
    "from sklearn.metrics import confusion_matrix, accuracy_score\n",
    "folder = \"D:\\ProgrammingBigFiles\\Kaggle\\Aerial Cactus Identification\\\\\""
   ]
  },
  {
   "cell_type": "code",
   "execution_count": 8,
   "metadata": {},
   "outputs": [],
   "source": [
    "# Loading database\n",
    "\n",
    "traindb = pd.read_csv(folder + \"train.csv\")\n",
    "train_images, final_images = [], []\n",
    "for image_id in traindb.iloc[:, 0]:\n",
    "    train_images += [mpimage.imread(folder + \"train/\" + image_id)]\n",
    "final_id = []\n",
    "for image_id in os.listdir(folder + \"test\"):\n",
    "    final_images += [mpimage.imread(folder + \"test/\" + image_id)]\n",
    "    final_id += [image_id]"
   ]
  },
  {
   "cell_type": "code",
   "execution_count": 3,
   "metadata": {},
   "outputs": [],
   "source": [
    "# Preprocessing\n",
    "\n",
    "x_train, y_train = np.array(train_images), traindb.iloc[:, -1]\n",
    "x_final = np.array(final_images)\n",
    "\n",
    "del traindb, train_images, final_images"
   ]
  },
  {
   "cell_type": "code",
   "execution_count": 4,
   "metadata": {},
   "outputs": [
    {
     "name": "stderr",
     "output_type": "stream",
     "text": [
      "WARNING: Logging before flag parsing goes to stderr.\n",
      "W0811 22:39:04.955872  6796 deprecation.py:506] From C:\\Users\\Nelson Gomes Neto\\AppData\\Roaming\\Python\\Python37\\site-packages\\tensorflow\\python\\ops\\init_ops.py:1251: calling VarianceScaling.__init__ (from tensorflow.python.ops.init_ops) with dtype is deprecated and will be removed in a future version.\n",
      "Instructions for updating:\n",
      "Call initializer instance with the dtype argument instead of passing it to the constructor\n"
     ]
    },
    {
     "name": "stdout",
     "output_type": "stream",
     "text": [
      "Train on 15750 samples, validate on 1750 samples\n",
      "Epoch 1/5\n",
      "15750/15750 [==============================] - 3s 159us/sample - loss: 9.8083 - acc: 0.7385 - val_loss: 0.5874 - val_acc: 0.7463\n",
      "Epoch 2/5\n",
      "15750/15750 [==============================] - 2s 142us/sample - loss: 0.5701 - acc: 0.7511 - val_loss: 0.5677 - val_acc: 0.7463\n",
      "Epoch 3/5\n",
      "15750/15750 [==============================] - 2s 134us/sample - loss: 0.5618 - acc: 0.7511 - val_loss: 0.5664 - val_acc: 0.7463\n",
      "Epoch 4/5\n",
      "15750/15750 [==============================] - 2s 134us/sample - loss: 0.5612 - acc: 0.7511 - val_loss: 0.5665 - val_acc: 0.7463\n",
      "Epoch 5/5\n",
      "15750/15750 [==============================] - 2s 133us/sample - loss: 0.5611 - acc: 0.7511 - val_loss: 0.5664 - val_acc: 0.7463\n"
     ]
    },
    {
     "data": {
      "text/plain": [
       "<tensorflow.python.keras.callbacks.History at 0x1c76daacdc8>"
      ]
     },
     "execution_count": 4,
     "metadata": {},
     "output_type": "execute_result"
    }
   ],
   "source": [
    "# Simple model\n",
    "\n",
    "model = tf.keras.models.Sequential([\n",
    "    tf.keras.layers.Flatten(input_shape=(32, 32, 3)),\n",
    "    tf.keras.layers.Dense(512, activation=tf.nn.relu),\n",
    "    tf.keras.layers.Dense(64, activation=tf.nn.relu),\n",
    "    tf.keras.layers.Dropout(0.2),\n",
    "    tf.keras.layers.Dense(2, activation=tf.nn.softmax)\n",
    "])\n",
    "model.compile(optimizer='adam', loss='sparse_categorical_crossentropy', metrics=['accuracy'])\n",
    "model.fit(x_train, y_train, epochs = 5, shuffle = True, validation_split = 0.1)"
   ]
  },
  {
   "cell_type": "code",
   "execution_count": 10,
   "metadata": {},
   "outputs": [],
   "source": [
    "y_predict = model.predict(x_final)\n",
    "ans = []\n",
    "for y in y_predict:\n",
    "    ans += [y.argmax()]\n",
    "submission = pd.DataFrame({\"id\": final_id, \"has_cactus\": ans})\n",
    "submission.to_csv(\"submission.csv\", index = False)"
   ]
  }
 ],
 "metadata": {
  "kernelspec": {
   "display_name": "'Python Interactive'",
   "language": "python",
   "name": "5241e48e-9232-4c28-887c-ab19aa0f6282"
  },
  "language_info": {
   "codemirror_mode": {
    "name": "ipython",
    "version": 3
   },
   "file_extension": ".py",
   "mimetype": "text/x-python",
   "name": "python",
   "nbconvert_exporter": "python",
   "pygments_lexer": "ipython3",
   "version": "3.7.4"
  }
 },
 "nbformat": 4,
 "nbformat_minor": 2
}
