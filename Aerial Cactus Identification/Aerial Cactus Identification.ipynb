{
 "cells": [
  {
   "cell_type": "code",
   "execution_count": 1,
   "metadata": {},
   "outputs": [],
   "source": [
    "# Imports\n",
    "\n",
    "import os\n",
    "import tensorflow as tf\n",
    "import pandas as pd\n",
    "import numpy as np\n",
    "import matplotlib.pyplot as plot\n",
    "import matplotlib.image as mpimage\n",
    "import seaborn as sn\n",
    "from sklearn.model_selection import train_test_split\n",
    "from sklearn.metrics import confusion_matrix, accuracy_score\n",
    "folder = \"D:\\ProgrammingBigFiles\\Kaggle\\Aerial Cactus Identification\\\\\""
   ]
  },
  {
   "cell_type": "code",
   "execution_count": 2,
   "metadata": {},
   "outputs": [],
   "source": [
    "# Loading database\n",
    "\n",
    "traindb = pd.read_csv(folder + \"train.csv\")\n",
    "train_images, final_images = [], []\n",
    "for image_id in traindb.iloc[:, 0]:\n",
    "    train_images += [mpimage.imread(folder + \"train/\" + image_id)]\n",
    "final_id = []\n",
    "for image_id in os.listdir(folder + \"test\"):\n",
    "    final_images += [mpimage.imread(folder + \"test/\" + image_id)]\n",
    "    final_id += [image_id]"
   ]
  },
  {
   "cell_type": "code",
   "execution_count": 3,
   "metadata": {},
   "outputs": [],
   "source": [
    "# Preprocessing\n",
    "\n",
    "x_train, y_train = np.array(train_images), traindb.iloc[:, -1]\n",
    "x_final = np.array(final_images)\n",
    "\n",
    "del traindb, train_images, final_images"
   ]
  },
  {
   "cell_type": "code",
   "execution_count": 11,
   "metadata": {},
   "outputs": [
    {
     "name": "stdout",
     "output_type": "stream",
     "text": [
      "Epoch 1/5\n",
      "17500/17500 [==============================] - 11s 655us/sample - loss: 1.3023 - acc: 0.8519\n",
      "Epoch 2/5\n",
      "17500/17500 [==============================] - 11s 617us/sample - loss: 0.1476 - acc: 0.9453\n",
      "Epoch 3/5\n",
      "17500/17500 [==============================] - 11s 617us/sample - loss: 0.1133 - acc: 0.9584\n",
      "Epoch 4/5\n",
      "17500/17500 [==============================] - 11s 617us/sample - loss: 0.1271 - acc: 0.9503\n",
      "Epoch 5/5\n",
      "17500/17500 [==============================] - 11s 618us/sample - loss: 0.0886 - acc: 0.9651\n"
     ]
    },
    {
     "data": {
      "text/plain": [
       "<tensorflow.python.keras.callbacks.History at 0x1e516f10d88>"
      ]
     },
     "execution_count": 11,
     "metadata": {},
     "output_type": "execute_result"
    }
   ],
   "source": [
    "# Simple model\n",
    "\n",
    "model = tf.keras.models.Sequential([\n",
    "    tf.keras.layers.Conv2D(filters=32, kernel_size=(5,5), padding=\"Same\", activation=\"relu\", input_shape=(32, 32, 3)),\n",
    "    tf.keras.layers.MaxPool2D(pool_size=(2,2)),\n",
    "    tf.keras.layers.Conv2D(filters=32, kernel_size=(5,5), padding=\"Same\", activation=\"relu\"),\n",
    "    tf.keras.layers.MaxPool2D(pool_size=(2,2)),\n",
    "\n",
    "    tf.keras.layers.Flatten(input_shape=(32, 32, 3)),\n",
    "    tf.keras.layers.Dense(512, activation=\"relu\"),\n",
    "    tf.keras.layers.Dropout(0.2),\n",
    "    tf.keras.layers.Dense(2, activation=\"softmax\")\n",
    "])\n",
    "model.compile(optimizer='adam', loss='sparse_categorical_crossentropy', metrics=['accuracy'])\n",
    "model.fit(x_train, y_train, epochs = 5, shuffle = True)"
   ]
  },
  {
   "cell_type": "code",
   "execution_count": 5,
   "metadata": {},
   "outputs": [],
   "source": [
    "y_predict = model.predict(x_final)\n",
    "ans = []\n",
    "for y in y_predict:\n",
    "    ans += [y.argmax()]\n",
    "submission = pd.DataFrame({\"id\": final_id, \"has_cactus\": ans})\n",
    "submission.to_csv(\"submission.csv\", index = False)"
   ]
  }
 ],
 "metadata": {
  "kernelspec": {
   "display_name": "'Python Interactive'",
   "language": "python",
   "name": "5241e48e-9232-4c28-887c-ab19aa0f6282"
  },
  "language_info": {
   "codemirror_mode": {
    "name": "ipython",
    "version": 3
   },
   "file_extension": ".py",
   "mimetype": "text/x-python",
   "name": "python",
   "nbconvert_exporter": "python",
   "pygments_lexer": "ipython3",
   "version": "3.7.4"
  }
 },
 "nbformat": 4,
 "nbformat_minor": 2
}
